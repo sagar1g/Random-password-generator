{
 "cells": [
  {
   "cell_type": "markdown",
   "id": "24a435fe",
   "metadata": {},
   "source": [
    "# Random password generator"
   ]
  },
  {
   "cell_type": "code",
   "execution_count": 43,
   "id": "bc013382",
   "metadata": {},
   "outputs": [],
   "source": [
    "import string as s\n",
    "import random as r\n",
    "def mypass():\n",
    "    upper=s.ascii_uppercase\n",
    "    lower=s.ascii_lowercase\n",
    "    number=s.digits\n",
    "    special_char=s.punctuation\n",
    "    while True:\n",
    "        try:\n",
    "            length=int(input('enter your password length:- '))\n",
    "            break\n",
    "        except:\n",
    "            print('oops! that is not the valid number plz try agin')\n",
    "    l=[]\n",
    "    l.extend(list(upper))\n",
    "    l.extend(list(lower))\n",
    "    l.extend(list(number))\n",
    "    l.extend(list(special_char))\n",
    "    #r.shuffle(l)\n",
    "    #print(\"\".join(l[0:length]))\n",
    "    z=''.join(r.sample(l,length))\n",
    "    print(f'your password is:- {z}')"
   ]
  },
  {
   "cell_type": "code",
   "execution_count": 44,
   "id": "f561a6dd",
   "metadata": {},
   "outputs": [
    {
     "name": "stdout",
     "output_type": "stream",
     "text": [
      "enter your password length:- 5\n",
      "your password is:- y|\"$&\n"
     ]
    }
   ],
   "source": [
    "mypass()"
   ]
  },
  {
   "cell_type": "code",
   "execution_count": null,
   "id": "d2b7b39c",
   "metadata": {},
   "outputs": [],
   "source": []
  }
 ],
 "metadata": {
  "kernelspec": {
   "display_name": "Python 3 (ipykernel)",
   "language": "python",
   "name": "python3"
  },
  "language_info": {
   "codemirror_mode": {
    "name": "ipython",
    "version": 3
   },
   "file_extension": ".py",
   "mimetype": "text/x-python",
   "name": "python",
   "nbconvert_exporter": "python",
   "pygments_lexer": "ipython3",
   "version": "3.9.12"
  }
 },
 "nbformat": 4,
 "nbformat_minor": 5
}
